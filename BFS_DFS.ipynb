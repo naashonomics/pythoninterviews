{
 "cells": [
  {
   "cell_type": "markdown",
   "metadata": {},
   "source": [
    "# Breadth First Search "
   ]
  },
  {
   "cell_type": "code",
   "execution_count": 11,
   "metadata": {},
   "outputs": [],
   "source": [
    "class Node(object):\n",
    "    def __init__(self,name):\n",
    "        self.name=name\n",
    "        self.adjacencyList=[]\n",
    "        self.visited=False\n",
    "        self.predecessor=None\n",
    "class BFS(object):\n",
    "    def bfs(self,startNode):\n",
    "        queue=[]\n",
    "        queue.append(startNode)\n",
    "        startNode.visited=True\n",
    "        while queue:\n",
    "            actualNode=queue.pop(0)\n",
    "            print(actualNode.name)\n",
    "            for n in  actualNode.adjacencyList:\n",
    "                if not n.visited:\n",
    "                    n.viisted=True\n",
    "                    queue.append(n)"
   ]
  },
  {
   "cell_type": "code",
   "execution_count": 12,
   "metadata": {},
   "outputs": [
    {
     "name": "stdout",
     "output_type": "stream",
     "text": [
      "A\n",
      "B\n",
      "C\n",
      "D\n",
      "E\n"
     ]
    }
   ],
   "source": [
    "node1= Node(\"A\")\n",
    "node2= Node(\"B\")\n",
    "node3= Node(\"C\")\n",
    "node4= Node(\"D\")\n",
    "node5= Node(\"E\")\n",
    "\n",
    "node1.adjacencyList.append(node2)\n",
    "node1.adjacencyList.append(node3)\n",
    "node1.adjacencyList.append(node4)\n",
    "node1.adjacencyList.append(node5)\n",
    "bfs=BFS()\n",
    "bfs.bfs(node1)"
   ]
  },
  {
   "cell_type": "markdown",
   "metadata": {},
   "source": [
    "# Depth First Search "
   ]
  },
  {
   "cell_type": "code",
   "execution_count": 19,
   "metadata": {},
   "outputs": [],
   "source": [
    "class Node(object):\n",
    "    def __init__(self,name):\n",
    "        self.name=name\n",
    "        self.adjacencyList=[]\n",
    "        self.visited=False\n",
    "        self.predecessor=None\n",
    "class DFS(object):\n",
    "    def dfs(self,Node):\n",
    "        Node.visited=True\n",
    "        print(Node.name)\n",
    "        for n in Node.adjacencyList:\n",
    "            if not n.visited:\n",
    "                self.dfs(n)"
   ]
  },
  {
   "cell_type": "code",
   "execution_count": 20,
   "metadata": {},
   "outputs": [
    {
     "name": "stdout",
     "output_type": "stream",
     "text": [
      "A\n",
      "B\n",
      "D\n",
      "E\n",
      "C\n"
     ]
    }
   ],
   "source": [
    "node1= Node(\"A\")\n",
    "node2= Node(\"B\")\n",
    "node3= Node(\"C\")\n",
    "node4= Node(\"D\")\n",
    "node5= Node(\"E\")\n",
    "\n",
    "node1.adjacencyList.append(node2)\n",
    "node1.adjacencyList.append(node3)\n",
    "node2.adjacencyList.append(node4)\n",
    "node4.adjacencyList.append(node5)\n",
    "dfs=DFS()\n",
    "dfs.dfs(node1)"
   ]
  },
  {
   "cell_type": "code",
   "execution_count": null,
   "metadata": {},
   "outputs": [],
   "source": []
  }
 ],
 "metadata": {
  "kernelspec": {
   "display_name": "Anaconda 3",
   "language": "python",
   "name": "python3"
  },
  "language_info": {
   "codemirror_mode": {
    "name": "ipython",
    "version": 3
   },
   "file_extension": ".py",
   "mimetype": "text/x-python",
   "name": "python",
   "nbconvert_exporter": "python",
   "pygments_lexer": "ipython3",
   "version": "3.7.3"
  }
 },
 "nbformat": 4,
 "nbformat_minor": 2
}
